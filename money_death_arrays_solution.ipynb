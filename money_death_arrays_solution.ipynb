{
 "cells": [
  {
   "cell_type": "markdown",
   "id": "cfdc163c",
   "metadata": {},
   "source": [
    "# Money and death\n",
    "\n",
    "\n",
    "\n",
    "We return to the death penalty."
   ]
  },
  {
   "cell_type": "code",
   "execution_count": 1,
   "id": "07790d0f",
   "metadata": {
    "execution": {
     "iopub.execute_input": "2022-12-07T22:46:01.709423Z",
     "iopub.status.busy": "2022-12-07T22:46:01.708999Z",
     "iopub.status.idle": "2022-12-07T22:46:02.226365Z",
     "shell.execute_reply": "2022-12-07T22:46:02.225916Z"
    }
   },
   "outputs": [],
   "source": [
    "# Array library.\n",
    "import numpy as np\n",
    "\n",
    "# A Numpy random number generator.\n",
    "rng = np.random.default_rng()\n",
    "\n",
    "# Data frames library.\n",
    "import pandas as pd\n",
    "\n",
    "# Set up plotting\n",
    "import matplotlib.pyplot as plt\n",
    "plt.style.use('fivethirtyeight')"
   ]
  },
  {
   "cell_type": "code",
   "execution_count": 2,
   "id": "bf29bfbf",
   "metadata": {
    "execution": {
     "iopub.execute_input": "2022-12-07T22:46:02.228822Z",
     "iopub.status.busy": "2022-12-07T22:46:02.228612Z",
     "iopub.status.idle": "2022-12-07T22:46:02.318639Z",
     "shell.execute_reply": "2022-12-07T22:46:02.318254Z"
    }
   },
   "outputs": [],
   "source": [
    "# Load the OKpy test library and tests.\n",
    "from client.api.notebook import Notebook\n",
    "ok = Notebook('money_death_arrays.ok')"
   ]
  },
  {
   "cell_type": "markdown",
   "id": "aa7ae0d6",
   "metadata": {},
   "source": [
    "In this case, we are going to analyze whether people with higher incomes are\n",
    "more likely to favor the death penalty.\n",
    "\n",
    "To do this, we are going to analyze the results from a sample of the US\n",
    "[General Social Survey](http://www.gss.norc.org) from 2002.\n",
    "\n",
    "Make sure you have the data file [GSS2002.csv](https://lisds.github.io/textbook/data/GSS2002.csv) in the same directory as this notebook.  This should be\n",
    "true if you opened this page from a JupyterHub system.\n",
    "\n",
    "First we will get the information we need from the data file, using Pandas."
   ]
  },
  {
   "cell_type": "code",
   "execution_count": 3,
   "id": "a69bf6e1",
   "metadata": {
    "execution": {
     "iopub.execute_input": "2022-12-07T22:46:02.321016Z",
     "iopub.status.busy": "2022-12-07T22:46:02.320722Z",
     "iopub.status.idle": "2022-12-07T22:46:02.338189Z",
     "shell.execute_reply": "2022-12-07T22:46:02.337825Z"
    }
   },
   "outputs": [],
   "source": [
    "# Just run this cell\n",
    "# Read the data into a data frame.\n",
    "gss = pd.read_csv('GSS2002.csv')\n",
    "# Select columns of interest.\n",
    "money_death = gss.loc[:, ['Income', 'DeathPenalty']].dropna()\n",
    "# Recode income from strings to numbers\n",
    "\n",
    "def recode_income(value):\n",
    "    if value == 'under 1000':\n",
    "        return 500\n",
    "    low_str, high_str = value.split('-')\n",
    "    low, high = int(low_str), int(high_str)\n",
    "    return np.mean([low, high])\n",
    "\n",
    "# Recode income and make it into an array.\n",
    "income = np.array(money_death['Income'].apply(recode_income))\n",
    "death = money_death['DeathPenalty']\n",
    "# Income values for people who favor the death penalty.\n",
    "favor_income = income[death == 'Favor']\n",
    "oppose_income = income[death == 'Oppose']"
   ]
  },
  {
   "cell_type": "code",
   "execution_count": 4,
   "id": "cafc4f25",
   "metadata": {
    "execution": {
     "iopub.execute_input": "2022-12-07T22:46:02.340227Z",
     "iopub.status.busy": "2022-12-07T22:46:02.340075Z",
     "iopub.status.idle": "2022-12-07T22:46:02.345893Z",
     "shell.execute_reply": "2022-12-07T22:46:02.345535Z"
    }
   },
   "outputs": [],
   "source": [
    "# Show the first 10 values for income in the \"Favor\" group\n",
    "favor_income[:10]"
   ]
  },
  {
   "cell_type": "code",
   "execution_count": 5,
   "id": "69cb2180",
   "metadata": {
    "execution": {
     "iopub.execute_input": "2022-12-07T22:46:02.347796Z",
     "iopub.status.busy": "2022-12-07T22:46:02.347649Z",
     "iopub.status.idle": "2022-12-07T22:46:02.350208Z",
     "shell.execute_reply": "2022-12-07T22:46:02.349881Z"
    }
   },
   "outputs": [],
   "source": [
    "# Show the first 10 values for income in the \"Oppose\" group\n",
    "oppose_income[:10]"
   ]
  },
  {
   "cell_type": "markdown",
   "id": "f8a94667",
   "metadata": {},
   "source": [
    "Calculate the difference in mean income between the groups.  This is the\n",
    "difference we observe."
   ]
  },
  {
   "cell_type": "code",
   "execution_count": 6,
   "id": "51d44f01",
   "metadata": {
    "execution": {
     "iopub.execute_input": "2022-12-07T22:46:02.352215Z",
     "iopub.status.busy": "2022-12-07T22:46:02.352073Z",
     "iopub.status.idle": "2022-12-07T22:46:02.354772Z",
     "shell.execute_reply": "2022-12-07T22:46:02.354466Z"
    }
   },
   "outputs": [],
   "source": [
    "actual_diff = np.mean(favor_income) - np.mean(oppose_income)\n",
    "actual_diff"
   ]
  },
  {
   "cell_type": "code",
   "execution_count": 7,
   "id": "db838273",
   "metadata": {
    "execution": {
     "iopub.execute_input": "2022-12-07T22:46:02.356555Z",
     "iopub.status.busy": "2022-12-07T22:46:02.356414Z",
     "iopub.status.idle": "2022-12-07T22:46:02.369346Z",
     "shell.execute_reply": "2022-12-07T22:46:02.368968Z"
    }
   },
   "outputs": [],
   "source": [
    "_ = ok.grade('q_8_actual_diff')"
   ]
  },
  {
   "cell_type": "markdown",
   "id": "2f2e3f8a",
   "metadata": {},
   "source": [
    "We want to know whether this difference in income is compatible with random\n",
    "sampling. That is, we want to know whether a difference this large is\n",
    "plausible, if the incomes are in fact random samples from the same\n",
    "population.\n",
    "\n",
    "To estimate how variable the mean differences can be, for such random\n",
    "sampling, we simulate this sampling by pooling the income values that we\n",
    "have, from the two groups, and the permuting them.\n",
    "\n",
    "First, we get the number of respondents in favor of the death penalty."
   ]
  },
  {
   "cell_type": "code",
   "execution_count": 8,
   "id": "85706749",
   "metadata": {
    "execution": {
     "iopub.execute_input": "2022-12-07T22:46:02.373243Z",
     "iopub.status.busy": "2022-12-07T22:46:02.373095Z",
     "iopub.status.idle": "2022-12-07T22:46:02.375391Z",
     "shell.execute_reply": "2022-12-07T22:46:02.375090Z"
    }
   },
   "outputs": [],
   "source": [
    "n_favor = len(favor_income)\n",
    "n_favor"
   ]
  },
  {
   "cell_type": "code",
   "execution_count": 9,
   "id": "b98cdf43",
   "metadata": {
    "execution": {
     "iopub.execute_input": "2022-12-07T22:46:02.377154Z",
     "iopub.status.busy": "2022-12-07T22:46:02.377012Z",
     "iopub.status.idle": "2022-12-07T22:46:02.384956Z",
     "shell.execute_reply": "2022-12-07T22:46:02.384547Z"
    }
   },
   "outputs": [],
   "source": [
    "_ = ok.grade('q_9_n_favor')"
   ]
  },
  {
   "cell_type": "markdown",
   "id": "1b94f081",
   "metadata": {},
   "source": [
    "Then we pool the income values for the in-favor and oppose groups."
   ]
  },
  {
   "cell_type": "code",
   "execution_count": 10,
   "id": "097756f4",
   "metadata": {
    "execution": {
     "iopub.execute_input": "2022-12-07T22:46:02.388882Z",
     "iopub.status.busy": "2022-12-07T22:46:02.388735Z",
     "iopub.status.idle": "2022-12-07T22:46:02.391410Z",
     "shell.execute_reply": "2022-12-07T22:46:02.391104Z"
    }
   },
   "outputs": [],
   "source": [
    "# Concatenate the in-favor and opposed incomes.\n",
    "pooled = np.concatenate([favor_income, oppose_income])\n",
    "# Show the first 10 values before shuffling.\n",
    "pooled[:10]"
   ]
  },
  {
   "cell_type": "markdown",
   "id": "b549a77a",
   "metadata": {},
   "source": [
    "To do the random sampling we permute the values, so the `pooled` vector is a\n",
    "random mixture of the two groups."
   ]
  },
  {
   "cell_type": "code",
   "execution_count": 11,
   "id": "338cdeaa",
   "metadata": {
    "execution": {
     "iopub.execute_input": "2022-12-07T22:46:02.394392Z",
     "iopub.status.busy": "2022-12-07T22:46:02.394250Z",
     "iopub.status.idle": "2022-12-07T22:46:02.397043Z",
     "shell.execute_reply": "2022-12-07T22:46:02.396716Z"
    }
   },
   "outputs": [],
   "source": [
    "shuffled = rng.permutation(pooled)\n",
    "# Show the first 10 values after shuffling.\n",
    "shuffled[:10]"
   ]
  },
  {
   "cell_type": "markdown",
   "id": "bc7334e4",
   "metadata": {},
   "source": [
    "Treat the first `n_favor` observations from this shuffled vector as our\n",
    "simulated in-favor group.  The rest are our simulated oppose\n",
    "group."
   ]
  },
  {
   "cell_type": "code",
   "execution_count": 12,
   "id": "750a5742",
   "metadata": {
    "execution": {
     "iopub.execute_input": "2022-12-07T22:46:02.398893Z",
     "iopub.status.busy": "2022-12-07T22:46:02.398760Z",
     "iopub.status.idle": "2022-12-07T22:46:02.400719Z",
     "shell.execute_reply": "2022-12-07T22:46:02.400401Z"
    }
   },
   "outputs": [],
   "source": [
    "fake_favor = shuffled[:n_favor]\n",
    "fake_oppose = shuffled[n_favor:]"
   ]
  },
  {
   "cell_type": "markdown",
   "id": "9a025ad0",
   "metadata": {},
   "source": [
    "Calculate the difference in means for this simulation."
   ]
  },
  {
   "cell_type": "code",
   "execution_count": 13,
   "id": "56d176f5",
   "metadata": {
    "execution": {
     "iopub.execute_input": "2022-12-07T22:46:02.402674Z",
     "iopub.status.busy": "2022-12-07T22:46:02.402529Z",
     "iopub.status.idle": "2022-12-07T22:46:02.405068Z",
     "shell.execute_reply": "2022-12-07T22:46:02.404753Z"
    }
   },
   "outputs": [],
   "source": [
    "fake_diff = np.mean(fake_favor) - np.mean(fake_oppose)\n",
    "fake_diff"
   ]
  },
  {
   "cell_type": "markdown",
   "id": "2ccfd0d2",
   "metadata": {},
   "source": [
    "Now it is your turn.   Do this simulation 10000 times, to build up the\n",
    "distribution of differences compatible with random sampling."
   ]
  },
  {
   "cell_type": "code",
   "execution_count": 14,
   "id": "0fb7d308",
   "metadata": {
    "execution": {
     "iopub.execute_input": "2022-12-07T22:46:02.406885Z",
     "iopub.status.busy": "2022-12-07T22:46:02.406751Z",
     "iopub.status.idle": "2022-12-07T22:46:02.625226Z",
     "shell.execute_reply": "2022-12-07T22:46:02.624896Z"
    }
   },
   "outputs": [],
   "source": [
    "fake_differences = np.zeros(10000)\n",
    "for i in np.arange(10000):\n",
    "    #- Permute the pooled incomes\n",
    "    shuffled = rng.permutation(pooled)\n",
    "    #- Make a fake favor sample\n",
    "    fake_favor = shuffled[:n_favor]\n",
    "    #- Make a fake opposed sample\n",
    "    fake_oppose = shuffled[n_favor:]\n",
    "    #- Calculate the mean difference for the fake samples\n",
    "    fake_diff = np.mean(fake_favor) - np.mean(fake_oppose)\n",
    "    #- Put the mean difference into the fake_differences array.\n",
    "    fake_differences[i] = fake_diff\n",
    "# Show the first 10 fake differences\n",
    "fake_differences[:10]"
   ]
  },
  {
   "cell_type": "code",
   "execution_count": 15,
   "id": "af0eaa6e",
   "metadata": {
    "execution": {
     "iopub.execute_input": "2022-12-07T22:46:02.627064Z",
     "iopub.status.busy": "2022-12-07T22:46:02.626927Z",
     "iopub.status.idle": "2022-12-07T22:46:02.636131Z",
     "shell.execute_reply": "2022-12-07T22:46:02.635768Z"
    }
   },
   "outputs": [],
   "source": [
    "_ = ok.grade('q_10_fake_differences')"
   ]
  },
  {
   "cell_type": "markdown",
   "id": "fca730be",
   "metadata": {},
   "source": [
    "When you have that working, do a histogram of the differences."
   ]
  },
  {
   "cell_type": "code",
   "execution_count": 16,
   "id": "dea8015f",
   "metadata": {
    "execution": {
     "iopub.execute_input": "2022-12-07T22:46:02.639879Z",
     "iopub.status.busy": "2022-12-07T22:46:02.639733Z",
     "iopub.status.idle": "2022-12-07T22:46:02.747359Z",
     "shell.execute_reply": "2022-12-07T22:46:02.746989Z"
    }
   },
   "outputs": [],
   "source": [
    "plt.hist(fake_differences);"
   ]
  },
  {
   "cell_type": "markdown",
   "id": "fe6bbe91",
   "metadata": {},
   "source": [
    "You can get an idea of where the actual difference we saw sits on this\n",
    "histogram, and therefore how likely that difference is, assuming the incomes\n",
    "come from the same underlying population of incomes.\n",
    "\n",
    "To be more specific, show the proportion of the differences you calculated that\n",
    "were greater than or equal to the actual difference."
   ]
  },
  {
   "cell_type": "code",
   "execution_count": 17,
   "id": "b2c5daed",
   "metadata": {
    "execution": {
     "iopub.execute_input": "2022-12-07T22:46:02.749632Z",
     "iopub.status.busy": "2022-12-07T22:46:02.749321Z",
     "iopub.status.idle": "2022-12-07T22:46:02.752431Z",
     "shell.execute_reply": "2022-12-07T22:46:02.752094Z"
    }
   },
   "outputs": [],
   "source": [
    "p_fake_ge_actual = np.count_nonzero(fake_differences >= actual_diff) / 10000\n",
    "p_fake_ge_actual"
   ]
  },
  {
   "cell_type": "code",
   "execution_count": 18,
   "id": "3f5a59cc",
   "metadata": {
    "execution": {
     "iopub.execute_input": "2022-12-07T22:46:02.754281Z",
     "iopub.status.busy": "2022-12-07T22:46:02.754158Z",
     "iopub.status.idle": "2022-12-07T22:46:02.764137Z",
     "shell.execute_reply": "2022-12-07T22:46:02.763702Z"
    }
   },
   "outputs": [],
   "source": [
    "_ = ok.grade('q_11_p_fake_ge_actual')"
   ]
  },
  {
   "cell_type": "markdown",
   "id": "4413cc25",
   "metadata": {},
   "source": [
    "This proportion gives an estimate of the probability of seeing a difference\n",
    "this large, if the incomes all come from the same underlying population."
   ]
  },
  {
   "cell_type": "markdown",
   "id": "e724f3fd",
   "metadata": {},
   "source": [
    "## Done"
   ]
  },
  {
   "cell_type": "code",
   "execution_count": 19,
   "id": "21319264",
   "metadata": {
    "execution": {
     "iopub.execute_input": "2022-12-07T22:46:02.768196Z",
     "iopub.status.busy": "2022-12-07T22:46:02.767939Z",
     "iopub.status.idle": "2022-12-07T22:46:02.800390Z",
     "shell.execute_reply": "2022-12-07T22:46:02.799959Z"
    }
   },
   "outputs": [],
   "source": [
    "# For your convenience, you can run this cell to run all the tests at once!\n",
    "import os\n",
    "_ = [ok.grade(q[:-3]) for q in os.listdir(\"tests\") if q.startswith('q')]"
   ]
  }
 ],
 "metadata": {
  "jupytext": {
   "notebook_metadata_filter": "all,-language_info",
   "split_at_heading": true,
   "text_representation": {
    "extension": ".Rmd",
    "format_name": "rmarkdown",
    "format_version": "1.2",
    "jupytext_version": "1.14.1"
   }
  },
  "kernelspec": {
   "display_name": "Python 3 (ipykernel)",
   "language": "python",
   "name": "python3"
  },
  "language_info": {
   "codemirror_mode": {
    "name": "ipython",
    "version": 3
   },
   "file_extension": ".py",
   "mimetype": "text/x-python",
   "name": "python",
   "nbconvert_exporter": "python",
   "pygments_lexer": "ipython3",
   "version": "3.10.7"
  }
 },
 "nbformat": 4,
 "nbformat_minor": 5
}
